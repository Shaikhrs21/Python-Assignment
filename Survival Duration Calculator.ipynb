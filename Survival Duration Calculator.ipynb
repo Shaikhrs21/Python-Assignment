{
  "nbformat": 4,
  "nbformat_minor": 0,
  "metadata": {
    "colab": {
      "provenance": [],
      "authorship_tag": "ABX9TyNJdLvactFHO7gvO4XJtzAN",
      "include_colab_link": true
    },
    "kernelspec": {
      "name": "python3",
      "display_name": "Python 3"
    },
    "language_info": {
      "name": "python"
    }
  },
  "cells": [
    {
      "cell_type": "markdown",
      "metadata": {
        "id": "view-in-github",
        "colab_type": "text"
      },
      "source": [
        "<a href=\"https://colab.research.google.com/github/Shaikhrs21/Python-Assignment/blob/main/Survival%20Duration%20Calculator.ipynb\" target=\"_parent\"><img src=\"https://colab.research.google.com/assets/colab-badge.svg\" alt=\"Open In Colab\"/></a>"
      ]
    },
    {
      "cell_type": "code",
      "source": [
        "def survival_duration_calculator(age, unit):\n",
        "  # method for calculating the survival duration\n",
        "    months_in_year = 12\n",
        "    weeks_in_year = 52.142\n",
        "    days_in_year = 365\n",
        "    hours_in_day = 24\n",
        "    minutes_in_hour = 60\n",
        "    seconds_in_minute = 60\n",
        "\n",
        "    if unit.lower() in ['months']:\n",
        "        return age * months_in_year\n",
        "    elif unit.lower() in ['weeks']:\n",
        "        return age * weeks_in_year\n",
        "    elif unit.lower() in ['days']:\n",
        "        return age * days_in_year\n",
        "    elif unit.lower() in ['hours']:\n",
        "        return age * days_in_year * hours_in_day\n",
        "    elif unit.lower() in ['minutes']:\n",
        "        return age * days_in_year * hours_in_day * minutes_in_hour\n",
        "    elif unit.lower() in ['seconds']:\n",
        "        return age * days_in_year * hours_in_day * minutes_in_hour * seconds_in_minute\n",
        "    else:\n",
        "        return None\n",
        "\n",
        "age = int(input(\"What is your age? \"))\n",
        "unit = input(\"Please choose duration unit: Months, Weeks, Days, Hours, Minutes, Seconds.-  \")\n",
        "\n",
        "\n",
        "duration = survival_duration_calculator(age, unit)\n",
        "\n",
        "if duration is not None:\n",
        "    print(f\"You have lived for {duration:.2f} {unit.capitalize()}\")\n",
        "else:\n",
        "    print(\"Invalid duration unit chosen.\")"
      ],
      "metadata": {
        "colab": {
          "base_uri": "https://localhost:8080/"
        },
        "id": "4b_1hLAiXLR5",
        "outputId": "d8fde20f-a443-4f81-e49d-d1fc6581670c"
      },
      "execution_count": 22,
      "outputs": [
        {
          "output_type": "stream",
          "name": "stdout",
          "text": [
            "What is your age? 1\n",
            "Please choose duration unit: Months, Weeks, Days, Hours, Minutes, Seconds.-  months\n",
            "You have lived for 12.00 Months\n"
          ]
        }
      ]
    },
    {
      "cell_type": "markdown",
      "source": [
        "To define the logic for calculating the duration in all six units (Months, Weeks, Days, Hours, Minutes, Seconds)\n",
        "\n",
        "# Logic Breakdown:\n",
        "1. *Months*:  \n",
        "   - 1 year = 12 months  \n",
        "   - So, the number of months a person has lived = age × 12.\n",
        "\n",
        "2. *Weeks*:  \n",
        "   - 1 year = 52 weeks (since a year has 365 days, and 365/7 ≈ 52.142).  \n",
        "   - So, the number of weeks a person has lived = age × 52.\n",
        "\n",
        "3. *Days*:  \n",
        "   - 1 year = 365 days (ignoring leap years).  \n",
        "   - So, the number of days a person has lived = age × 365.\n",
        "\n",
        "4. *Hours*:  \n",
        "   - 1 day = 24 hours.  \n",
        "   - So, the number of hours a person has lived = age × 365 × 24.\n",
        "\n",
        "5. *Minutes*:  \n",
        "   - 1 hour = 60 minutes.  \n",
        "   - So, the number of minutes a person has lived = age × 365 × 24 × 60.\n",
        "\n",
        "6. *Seconds*:  \n",
        "   - 1 minute = 60 seconds.  \n",
        "   - So, the number of seconds a person has lived = age × 365 × 24 × 60 × 60.\n"
      ],
      "metadata": {
        "id": "d7o5SClzhNY7"
      }
    }
  ]
}